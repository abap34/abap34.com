{
 "cells": [
  {
   "cell_type": "code",
   "execution_count": 1,
   "metadata": {},
   "outputs": [],
   "source": [
    "import torch"
   ]
  },
  {
   "attachments": {},
   "cell_type": "markdown",
   "metadata": {},
   "source": [
    "# 結論: 自動微分\n",
    "PyTorchを使うと自動微分ができる"
   ]
  },
  {
   "cell_type": "code",
   "execution_count": 2,
   "metadata": {},
   "outputs": [],
   "source": [
    "x = torch.tensor(2.0, requires_grad=True)"
   ]
  },
  {
   "cell_type": "code",
   "execution_count": 3,
   "metadata": {},
   "outputs": [],
   "source": [
    "def f(x):\n",
    "    return x ** 2 + 4 * x + 3"
   ]
  },
  {
   "cell_type": "code",
   "execution_count": 4,
   "metadata": {},
   "outputs": [],
   "source": [
    "y = f(x)"
   ]
  },
  {
   "cell_type": "code",
   "execution_count": 5,
   "metadata": {},
   "outputs": [],
   "source": [
    "y.backward()"
   ]
  },
  {
   "cell_type": "code",
   "execution_count": 6,
   "metadata": {},
   "outputs": [
    {
     "data": {
      "text/plain": [
       "tensor(8.)"
      ]
     },
     "execution_count": 6,
     "metadata": {},
     "output_type": "execute_result"
    }
   ],
   "source": [
    "x.grad"
   ]
  },
  {
   "cell_type": "markdown",
   "metadata": {},
   "source": [
    "# Tensor型"
   ]
  },
  {
   "cell_type": "code",
   "execution_count": 7,
   "metadata": {},
   "outputs": [
    {
     "data": {
      "text/plain": [
       "tensor(2., requires_grad=True)"
      ]
     },
     "execution_count": 7,
     "metadata": {},
     "output_type": "execute_result"
    }
   ],
   "source": [
    "# 2.0というスカラを保持するTensor型のオブジェクトを作成\n",
    "# (数 x = 2.0 を定義)\n",
    "x = torch.tensor(2.0, requires_grad=True)\n",
    "x"
   ]
  },
  {
   "cell_type": "code",
   "execution_count": 8,
   "metadata": {},
   "outputs": [
    {
     "data": {
      "text/plain": [
       "tensor([1., 2., 3.], requires_grad=True)"
      ]
     },
     "execution_count": 8,
     "metadata": {},
     "output_type": "execute_result"
    }
   ],
   "source": [
    "# [1.0, 2.0, 3.0]というベクトルを保持するTensor型のオブジェクトを作成\n",
    "# (数 x = (1.0, 2.0, 3.0) \n",
    "x = torch.tensor([1.0, 2.0, 3.0], requires_grad=True)\n",
    "x"
   ]
  },
  {
   "attachments": {},
   "cell_type": "markdown",
   "metadata": {},
   "source": [
    "### `torch.tensor(data, requires_grad=False)`\n",
    "\n",
    "- data: 保持するデータ(配列っぽいものならなんでも)\n",
    "    リスト、タプル、NumPy配列、スカラ、...\n",
    "- requires_grad: 勾配(gradient)を保持するかどうかのフラグ  \n",
    "    デフォルトはFalse\n",
    "    勾配の計算(自動微分)を行う場合はTrueにする"
   ]
  },
  {
   "cell_type": "code",
   "execution_count": 9,
   "metadata": {},
   "outputs": [
    {
     "data": {
      "text/plain": [
       "tensor([1., 2., 3.], requires_grad=True)"
      ]
     },
     "execution_count": 9,
     "metadata": {},
     "output_type": "execute_result"
    }
   ],
   "source": [
    "torch.tensor([1.0, 2.0, 3.0], requires_grad=True)"
   ]
  },
  {
   "cell_type": "code",
   "execution_count": 10,
   "metadata": {},
   "outputs": [
    {
     "data": {
      "text/plain": [
       "tensor([1., 2., 3.], requires_grad=True)"
      ]
     },
     "execution_count": 10,
     "metadata": {},
     "output_type": "execute_result"
    }
   ],
   "source": [
    "torch.tensor((1.0, 2.0, 3.0), requires_grad=True)"
   ]
  },
  {
   "cell_type": "code",
   "execution_count": 11,
   "metadata": {},
   "outputs": [
    {
     "data": {
      "text/plain": [
       "tensor([[1., 2., 3.],\n",
       "        [4., 5., 6.]], requires_grad=True)"
      ]
     },
     "execution_count": 11,
     "metadata": {},
     "output_type": "execute_result"
    }
   ],
   "source": [
    "torch.tensor([[1.0, 2.0, 3.0], [4.0, 5.0, 6.0]], requires_grad=True)"
   ]
  },
  {
   "cell_type": "markdown",
   "metadata": {},
   "source": [
    "# 演習1"
   ]
  },
  {
   "cell_type": "code",
   "execution_count": 12,
   "metadata": {},
   "outputs": [],
   "source": [
    "# 1\n",
    "x = torch.tensor(3.0, requires_grad=True)"
   ]
  },
  {
   "cell_type": "code",
   "execution_count": 13,
   "metadata": {},
   "outputs": [],
   "source": [
    "# 2\n",
    "x = torch.tensor([3.0, 4.0, 5.0], requires_grad=True)"
   ]
  },
  {
   "cell_type": "code",
   "execution_count": 14,
   "metadata": {},
   "outputs": [],
   "source": [
    "# 3\n",
    "x = torch.tensor([[3.0, 4.0, 5.0], [6.0, 7.0, 8.0]], requires_grad=True)"
   ]
  },
  {
   "cell_type": "code",
   "execution_count": 15,
   "metadata": {},
   "outputs": [
    {
     "ename": "RuntimeError",
     "evalue": "Only Tensors of floating point and complex dtype can require gradients",
     "output_type": "error",
     "traceback": [
      "\u001b[0;31m---------------------------------------------------------------------------\u001b[0m",
      "\u001b[0;31mRuntimeError\u001b[0m                              Traceback (most recent call last)",
      "Cell \u001b[0;32mIn[15], line 2\u001b[0m\n\u001b[1;32m      1\u001b[0m \u001b[38;5;66;03m# 4\u001b[39;00m\n\u001b[0;32m----> 2\u001b[0m x \u001b[38;5;241m=\u001b[39m \u001b[43mtorch\u001b[49m\u001b[38;5;241;43m.\u001b[39;49m\u001b[43mtensor\u001b[49m\u001b[43m(\u001b[49m\u001b[38;5;241;43m3\u001b[39;49m\u001b[43m,\u001b[49m\u001b[43m \u001b[49m\u001b[43mrequires_grad\u001b[49m\u001b[38;5;241;43m=\u001b[39;49m\u001b[38;5;28;43;01mTrue\u001b[39;49;00m\u001b[43m)\u001b[49m\n",
      "\u001b[0;31mRuntimeError\u001b[0m: Only Tensors of floating point and complex dtype can require gradients"
     ]
    }
   ],
   "source": [
    "# 4\n",
    "x = torch.tensor(3, requires_grad=True)"
   ]
  },
  {
   "attachments": {},
   "cell_type": "markdown",
   "metadata": {},
   "source": [
    "\"Only Tensors of floating point and complex dtype can require gradients\"\n",
    "「勾配を保持するには浮動小数点型か複素数型のTensorが必要」となり、整数型のTensorは勾配を保持できない"
   ]
  },
  {
   "cell_type": "code",
   "execution_count": 16,
   "metadata": {},
   "outputs": [
    {
     "data": {
      "text/plain": [
       "tensor([[  1.,   2.,   3.,   4.,   5.,   6.,   7.,   8.,   9.,  10.],\n",
       "        [ 11.,  12.,  13.,  14.,  15.,  16.,  17.,  18.,  19.,  20.],\n",
       "        [ 21.,  22.,  23.,  24.,  25.,  26.,  27.,  28.,  29.,  30.],\n",
       "        [ 31.,  32.,  33.,  34.,  35.,  36.,  37.,  38.,  39.,  40.],\n",
       "        [ 41.,  42.,  43.,  44.,  45.,  46.,  47.,  48.,  49.,  50.],\n",
       "        [ 51.,  52.,  53.,  54.,  55.,  56.,  57.,  58.,  59.,  60.],\n",
       "        [ 61.,  62.,  63.,  64.,  65.,  66.,  67.,  68.,  69.,  70.],\n",
       "        [ 71.,  72.,  73.,  74.,  75.,  76.,  77.,  78.,  79.,  80.],\n",
       "        [ 81.,  82.,  83.,  84.,  85.,  86.,  87.,  88.,  89.,  90.],\n",
       "        [ 91.,  92.,  93.,  94.,  95.,  96.,  97.,  98.,  99., 100.]],\n",
       "       requires_grad=True)"
      ]
     },
     "execution_count": 16,
     "metadata": {},
     "output_type": "execute_result"
    }
   ],
   "source": [
    "# 5\n",
    "matrix = []\n",
    "for i in range(10):\n",
    "    row = []\n",
    "    for j in range(10 * i + 1, 10 * i + 11):\n",
    "        row.append(float(j))\n",
    "    matrix.append(row)\n",
    "\n",
    "x = torch.tensor(matrix, requires_grad=True)\n",
    "\n",
    "x"
   ]
  },
  {
   "cell_type": "code",
   "execution_count": 17,
   "metadata": {},
   "outputs": [
    {
     "data": {
      "text/plain": [
       "tensor([[  1.,   2.,   3.,   4.,   5.,   6.,   7.,   8.,   9.,  10.],\n",
       "        [ 11.,  12.,  13.,  14.,  15.,  16.,  17.,  18.,  19.,  20.],\n",
       "        [ 21.,  22.,  23.,  24.,  25.,  26.,  27.,  28.,  29.,  30.],\n",
       "        [ 31.,  32.,  33.,  34.,  35.,  36.,  37.,  38.,  39.,  40.],\n",
       "        [ 41.,  42.,  43.,  44.,  45.,  46.,  47.,  48.,  49.,  50.],\n",
       "        [ 51.,  52.,  53.,  54.,  55.,  56.,  57.,  58.,  59.,  60.],\n",
       "        [ 61.,  62.,  63.,  64.,  65.,  66.,  67.,  68.,  69.,  70.],\n",
       "        [ 71.,  72.,  73.,  74.,  75.,  76.,  77.,  78.,  79.,  80.],\n",
       "        [ 81.,  82.,  83.,  84.,  85.,  86.,  87.,  88.,  89.,  90.],\n",
       "        [ 91.,  92.,  93.,  94.,  95.,  96.,  97.,  98.,  99., 100.]])"
      ]
     },
     "execution_count": 17,
     "metadata": {},
     "output_type": "execute_result"
    }
   ],
   "source": [
    "# 5. 別解1\n",
    "x = torch.tensor([[float(i) for i in range(10 * j + 1, 10 * j + 11)] for j in range(10)])\n",
    "x"
   ]
  },
  {
   "cell_type": "code",
   "execution_count": 18,
   "metadata": {},
   "outputs": [
    {
     "data": {
      "text/plain": [
       "tensor([[  1.,   2.,   3.,   4.,   5.,   6.,   7.,   8.,   9.,  10.],\n",
       "        [ 11.,  12.,  13.,  14.,  15.,  16.,  17.,  18.,  19.,  20.],\n",
       "        [ 21.,  22.,  23.,  24.,  25.,  26.,  27.,  28.,  29.,  30.],\n",
       "        [ 31.,  32.,  33.,  34.,  35.,  36.,  37.,  38.,  39.,  40.],\n",
       "        [ 41.,  42.,  43.,  44.,  45.,  46.,  47.,  48.,  49.,  50.],\n",
       "        [ 51.,  52.,  53.,  54.,  55.,  56.,  57.,  58.,  59.,  60.],\n",
       "        [ 61.,  62.,  63.,  64.,  65.,  66.,  67.,  68.,  69.,  70.],\n",
       "        [ 71.,  72.,  73.,  74.,  75.,  76.,  77.,  78.,  79.,  80.],\n",
       "        [ 81.,  82.,  83.,  84.,  85.,  86.,  87.,  88.,  89.,  90.],\n",
       "        [ 91.,  92.,  93.,  94.,  95.,  96.,  97.,  98.,  99., 100.]])"
      ]
     },
     "execution_count": 18,
     "metadata": {},
     "output_type": "execute_result"
    }
   ],
   "source": [
    "# 5. 別解2\n",
    "x = torch.tensor(range(1, 101), dtype=torch.float).reshape(10, 10)\n",
    "x"
   ]
  },
  {
   "cell_type": "markdown",
   "metadata": {},
   "source": [
    "# Tensor型に対する演算"
   ]
  },
  {
   "cell_type": "code",
   "execution_count": 19,
   "metadata": {},
   "outputs": [],
   "source": [
    "x = torch.tensor(2.0, requires_grad=True)"
   ]
  },
  {
   "cell_type": "code",
   "execution_count": 20,
   "metadata": {},
   "outputs": [
    {
     "data": {
      "text/plain": [
       "tensor(4., grad_fn=<AddBackward0>)"
      ]
     },
     "execution_count": 20,
     "metadata": {},
     "output_type": "execute_result"
    }
   ],
   "source": [
    "x + 2"
   ]
  },
  {
   "cell_type": "code",
   "execution_count": 21,
   "metadata": {},
   "outputs": [
    {
     "data": {
      "text/plain": [
       "tensor(4., grad_fn=<MulBackward0>)"
      ]
     },
     "execution_count": 21,
     "metadata": {},
     "output_type": "execute_result"
    }
   ],
   "source": [
    "x * 2"
   ]
  },
  {
   "cell_type": "code",
   "execution_count": 22,
   "metadata": {},
   "outputs": [
    {
     "data": {
      "text/plain": [
       "tensor(1.4142, grad_fn=<SqrtBackward0>)"
      ]
     },
     "execution_count": 22,
     "metadata": {},
     "output_type": "execute_result"
    }
   ],
   "source": [
    "torch.sqrt(x)"
   ]
  },
  {
   "cell_type": "code",
   "execution_count": 23,
   "metadata": {},
   "outputs": [
    {
     "data": {
      "text/plain": [
       "tensor(0.9093, grad_fn=<SinBackward0>)"
      ]
     },
     "execution_count": 23,
     "metadata": {},
     "output_type": "execute_result"
    }
   ],
   "source": [
    "torch.sin(x)"
   ]
  },
  {
   "cell_type": "code",
   "execution_count": 24,
   "metadata": {},
   "outputs": [
    {
     "data": {
      "text/plain": [
       "tensor(7.3891, grad_fn=<ExpBackward0>)"
      ]
     },
     "execution_count": 24,
     "metadata": {},
     "output_type": "execute_result"
    }
   ],
   "source": [
    "torch.exp(x)"
   ]
  },
  {
   "cell_type": "markdown",
   "metadata": {},
   "source": [
    "# 自動微分"
   ]
  },
  {
   "cell_type": "code",
   "execution_count": 25,
   "metadata": {},
   "outputs": [],
   "source": [
    "x = torch.tensor(2.0, requires_grad=True)\n",
    "y = x + 2"
   ]
  },
  {
   "cell_type": "code",
   "execution_count": 26,
   "metadata": {},
   "outputs": [
    {
     "name": "stdout",
     "output_type": "stream",
     "text": [
      "tensor(4., grad_fn=<AddBackward0>)\n"
     ]
    }
   ],
   "source": [
    "# Addが記録されている！\n",
    "print(y)"
   ]
  },
  {
   "cell_type": "code",
   "execution_count": 27,
   "metadata": {},
   "outputs": [
    {
     "name": "stdout",
     "output_type": "stream",
     "text": [
      "4\n"
     ]
    }
   ],
   "source": [
    "# 4としか記録されていない\n",
    "x = 2\n",
    "y = x + 2\n",
    "print(y)"
   ]
  },
  {
   "cell_type": "markdown",
   "metadata": {},
   "source": [
    "# backwardによる自動微分"
   ]
  },
  {
   "attachments": {},
   "cell_type": "markdown",
   "metadata": {},
   "source": [
    "$y = x + 2$のとき$\\dfrac{dy}{dx} = 1$をもとめる"
   ]
  },
  {
   "cell_type": "code",
   "execution_count": 28,
   "metadata": {},
   "outputs": [],
   "source": [
    "x = torch.tensor(2.0, requires_grad=True)\n",
    "y = x + 2\n",
    "y.backward()"
   ]
  },
  {
   "cell_type": "code",
   "execution_count": 29,
   "metadata": {},
   "outputs": [
    {
     "data": {
      "text/plain": [
       "tensor(1.)"
      ]
     },
     "execution_count": 29,
     "metadata": {},
     "output_type": "execute_result"
    }
   ],
   "source": [
    "x.grad"
   ]
  },
  {
   "attachments": {},
   "cell_type": "markdown",
   "metadata": {},
   "source": [
    "#### 複雑な演算の自動微分"
   ]
  },
  {
   "cell_type": "code",
   "execution_count": 30,
   "metadata": {},
   "outputs": [
    {
     "name": "stdout",
     "output_type": "stream",
     "text": [
      "tensor(-218.4625)\n"
     ]
    }
   ],
   "source": [
    "x = torch.tensor(2.0, requires_grad=True)\n",
    "y = y = torch.sin((x + 2) + (1 + torch.exp(x ** 2))) \n",
    "y.backward()\n",
    "print(x.grad) "
   ]
  },
  {
   "cell_type": "code",
   "execution_count": 31,
   "metadata": {},
   "outputs": [
    {
     "name": "stdout",
     "output_type": "stream",
     "text": [
      "tensor(8.)\n"
     ]
    }
   ],
   "source": [
    "x = torch.tensor(2.0, requires_grad=True)\n",
    "y = x ** 2\n",
    "z = 2 * y + 3\n",
    "z.backward()\n",
    "print(x.grad)"
   ]
  },
  {
   "cell_type": "code",
   "execution_count": 32,
   "metadata": {},
   "outputs": [
    {
     "name": "stdout",
     "output_type": "stream",
     "text": [
      "tensor([2., 3., 4.])\n"
     ]
    }
   ],
   "source": [
    "x = torch.tensor([1.0, 2.0, 3.0], requires_grad=True)\n",
    "y = 2 * x[0] + 3 * x[1] + 4 * x[2]\n",
    "y.backward()\n",
    "print(x.grad)"
   ]
  },
  {
   "cell_type": "code",
   "execution_count": 33,
   "metadata": {},
   "outputs": [
    {
     "name": "stdout",
     "output_type": "stream",
     "text": [
      "tensor([[1., 1., 1.],\n",
      "        [1., 1., 1.]])\n"
     ]
    }
   ],
   "source": [
    "A = torch.tensor([[1.0, 2.0, 3.0], [4.0, 5.0, 6.0]], requires_grad=True)\n",
    "y = torch.sum(A)\n",
    "y.backward()\n",
    "print(A.grad) "
   ]
  },
  {
   "cell_type": "code",
   "execution_count": 34,
   "metadata": {},
   "outputs": [
    {
     "name": "stdout",
     "output_type": "stream",
     "text": [
      "x.grad: tensor(2.)\n",
      "y.grad: tensor(4.)\n"
     ]
    }
   ],
   "source": [
    "x = torch.tensor(2.0, requires_grad=True)\n",
    "y = torch.tensor(3.0, requires_grad=True)\n",
    "z = 2 * x + 4 * y\n",
    "z.backward()\n",
    "print('x.grad:', x.grad) \n",
    "print('y.grad:', y.grad) "
   ]
  },
  {
   "cell_type": "markdown",
   "metadata": {},
   "source": [
    "# 演習3"
   ]
  },
  {
   "cell_type": "code",
   "execution_count": 35,
   "metadata": {},
   "outputs": [
    {
     "name": "stdout",
     "output_type": "stream",
     "text": [
      "tensor(8.)\n"
     ]
    }
   ],
   "source": [
    "# 1\n",
    "x = torch.tensor(3.0, requires_grad=True)\n",
    "y = x ** 2 + 2 * x + 1\n",
    "y.backward()\n",
    "print(x.grad)"
   ]
  },
  {
   "cell_type": "code",
   "execution_count": 36,
   "metadata": {},
   "outputs": [
    {
     "name": "stdout",
     "output_type": "stream",
     "text": [
      "tensor([2., 4., 6.])\n"
     ]
    }
   ],
   "source": [
    "# 2\n",
    "x = torch.tensor([1.0, 2.0, 3.0], requires_grad=True)\n",
    "y = x[0] ** 2 + x[1] ** 2 + x[2] ** 2\n",
    "y.backward()\n",
    "print(x.grad)"
   ]
  },
  {
   "cell_type": "code",
   "execution_count": 37,
   "metadata": {},
   "outputs": [
    {
     "name": "stdout",
     "output_type": "stream",
     "text": [
      "tensor([[1., 2., 3.],\n",
      "        [2., 4., 6.]])\n",
      "tensor([[14., 32.]])\n",
      "tensor([ 9., 12., 15.])\n"
     ]
    }
   ],
   "source": [
    "# 3\n",
    "W = torch.tensor([[1.0, 2.0, 3.0], [4.0, 5.0, 6.0]], requires_grad=True)\n",
    "x1 = torch.tensor([[1.0, 2.0]], requires_grad=True)\n",
    "x2 = torch.tensor([1.0, 2.0, 3.0], requires_grad=True)\n",
    "y = torch.matmul(torch.matmul(x1, W), x2)\n",
    "y.backward()\n",
    "print(W.grad)   \n",
    "print(x1.grad)\n",
    "print(x2.grad)"
   ]
  },
  {
   "cell_type": "markdown",
   "metadata": {},
   "source": [
    "# PyTorchによる勾配降下法"
   ]
  },
  {
   "cell_type": "code",
   "execution_count": 38,
   "metadata": {},
   "outputs": [
    {
     "name": "stderr",
     "output_type": "stream",
     "text": [
      "/var/folders/k0/0f8kvxl562db4z1s1j8l0v4c0000gn/T/ipykernel_62177/2685225857.py:12: UserWarning: The .grad attribute of a Tensor that is not a leaf Tensor is being accessed. Its .grad attribute won't be populated during autograd.backward(). If you indeed want the .grad field to be populated for a non-leaf Tensor, use .retain_grad() on the non-leaf Tensor. If you access the non-leaf Tensor by mistake, make sure you access the leaf Tensor instead. See github.com/pytorch/pytorch/pull/30531 for more informations. (Triggered internally at /Users/runner/work/pytorch/pytorch/pytorch/build/aten/src/ATen/core/TensorBody.h:491.)\n",
      "  x = x - lr * x.grad\n"
     ]
    },
    {
     "ename": "TypeError",
     "evalue": "unsupported operand type(s) for *: 'float' and 'NoneType'",
     "output_type": "error",
     "traceback": [
      "\u001b[0;31m---------------------------------------------------------------------------\u001b[0m",
      "\u001b[0;31mTypeError\u001b[0m                                 Traceback (most recent call last)",
      "Cell \u001b[0;32mIn[38], line 12\u001b[0m\n\u001b[1;32m     10\u001b[0m y \u001b[38;5;241m=\u001b[39m f(x)\n\u001b[1;32m     11\u001b[0m y\u001b[38;5;241m.\u001b[39mbackward()\n\u001b[0;32m---> 12\u001b[0m x \u001b[38;5;241m=\u001b[39m x \u001b[38;5;241m-\u001b[39m \u001b[43mlr\u001b[49m\u001b[43m \u001b[49m\u001b[38;5;241;43m*\u001b[39;49m\u001b[43m \u001b[49m\u001b[43mx\u001b[49m\u001b[38;5;241;43m.\u001b[39;49m\u001b[43mgrad\u001b[49m\n",
      "\u001b[0;31mTypeError\u001b[0m: unsupported operand type(s) for *: 'float' and 'NoneType'"
     ]
    }
   ],
   "source": [
    "# これは動きません！！！！！！\n",
    "lr = 0.0005\n",
    "\n",
    "x = torch.tensor(3.0, requires_grad=True)\n",
    "\n",
    "def f(x):\n",
    "    return x ** 2 + torch.exp(-x)\n",
    "\n",
    "for i in range(10001):\n",
    "    y = f(x)\n",
    "    y.backward()\n",
    "    x = x - lr * x.grad"
   ]
  },
  {
   "cell_type": "code",
   "execution_count": 39,
   "metadata": {},
   "outputs": [
    {
     "name": "stdout",
     "output_type": "stream",
     "text": [
      "x: 2.9970247745513916 y: 9.049787521362305\n",
      "x: 1.1617511510849 y: 1.664628267288208\n",
      "x: 0.5760473608970642 y: 0.8941207528114319\n",
      "x: 0.4109557569026947 y: 0.8319135308265686\n",
      "x: 0.36713266372680664 y: 0.8275049924850464\n",
      "x: 0.35572120547294617 y: 0.8272055983543396\n",
      "x: 0.35276520252227783 y: 0.8271855115890503\n",
      "x: 0.3520005941390991 y: 0.8271840810775757\n",
      "x: 0.3518032431602478 y: 0.8271840214729309\n",
      "x: 0.35175278782844543 y: 0.8271840214729309\n",
      "x: 0.35174471139907837 y: 0.8271840214729309\n"
     ]
    }
   ],
   "source": [
    "# 修正版\n",
    "\n",
    "lr = 0.0005\n",
    "\n",
    "x = torch.tensor(3.0, requires_grad=True)\n",
    "\n",
    "def f(x):\n",
    "    return x ** 2 + torch.exp(-x)\n",
    "\n",
    "for i in range(10001):\n",
    "    y = f(x)\n",
    "    y.backward()\n",
    "    with torch.no_grad(): \n",
    "        x = x - lr * x.grad\n",
    "    x.requires_grad = True\n",
    "    if i % 1000 == 0:\n",
    "        print('x:', x.item(), 'y:', y.item())\n"
   ]
  },
  {
   "cell_type": "markdown",
   "metadata": {},
   "source": [
    "上の修正について解説します。\n",
    "まず、`requires_grad=True`となっているTensor型は、何もしなくても勝手に勾配を計算するために演算を記録します。\n",
    "つまり、普通に `x = x - lr * x.grad`という式を書くと、この計算も勾配を計算するために記録されます。\n",
    "しかし、我々が関心があるのは(勾配降下法に使うのは)、あくまで$y = f(x)$としたときの$\\dfrac{dy}{dx}$で、これ以外の演算が$x$に記録されるのは困ります。\n",
    "そこで使うのが`with torch.no_grad()`です。これによって作られたブロックの中で行われるTensor型同士の演算は、記録されません。これによって正しく計算が進むようになります。\n",
    "\n",
    "しかし、`with torch.no_grad()`内での計算によって得られた`tensor`は、`requires_grad`が`False`になってしまい(下のセルを参照)、勾配計算が行えなくなってしまいます。そこで`x.requires_grad = True`を追加してこれを防ぎます。"
   ]
  },
  {
   "cell_type": "code",
   "execution_count": 40,
   "metadata": {},
   "outputs": [
    {
     "name": "stdout",
     "output_type": "stream",
     "text": [
      "False\n"
     ]
    }
   ],
   "source": [
    "with torch.no_grad():\n",
    "    y = x * 2\n",
    "    print(y.requires_grad)"
   ]
  },
  {
   "cell_type": "code",
   "execution_count": 41,
   "metadata": {},
   "outputs": [
    {
     "name": "stdout",
     "output_type": "stream",
     "text": [
      "True\n"
     ]
    }
   ],
   "source": [
    "y = x * 2\n",
    "print(y.requires_grad)"
   ]
  },
  {
   "cell_type": "markdown",
   "metadata": {},
   "source": [
    "# 演習4"
   ]
  },
  {
   "cell_type": "code",
   "execution_count": 42,
   "metadata": {},
   "outputs": [
    {
     "name": "stdout",
     "output_type": "stream",
     "text": [
      "x: 2.999621629714966 y: -0.06691485643386841\n",
      "x: 2.5475635528564453 y: -0.08757597953081131\n",
      "x: 1.7923390865325928 y: -0.14684318006038666\n",
      "x: 0.230942502617836 y: -0.4206233322620392\n",
      "x: 0.19001677632331848 y: -0.4213384687900543\n",
      "x: 0.1900096833705902 y: -0.42133834958076477\n",
      "x: 0.1900096833705902 y: -0.42133834958076477\n",
      "x: 0.1900096833705902 y: -0.42133834958076477\n",
      "x: 0.1900096833705902 y: -0.42133834958076477\n",
      "x: 0.1900096833705902 y: -0.42133834958076477\n",
      "x: 0.1900096833705902 y: -0.42133834958076477\n"
     ]
    }
   ],
   "source": [
    "# 1\n",
    "\n",
    "lr = 0.01\n",
    "\n",
    "x = torch.tensor(3.0, requires_grad=True)\n",
    "\n",
    "def f(x):\n",
    "    return -(torch.log(1 / (1 + torch.exp(-x)) + 1))/(x ** 2 + 1)\n",
    "\n",
    "for i in range(10001):\n",
    "    y = f(x)\n",
    "    y.backward()\n",
    "    with torch.no_grad(): \n",
    "        x = x - lr * x.grad\n",
    "    x.requires_grad = True\n",
    "    if i % 1000 == 0:\n",
    "        print('x:', x.item(), 'y:', y.item())\n"
   ]
  },
  {
   "cell_type": "markdown",
   "metadata": {},
   "source": [
    "#### アイスの問題"
   ]
  },
  {
   "cell_type": "code",
   "execution_count": 43,
   "metadata": {},
   "outputs": [],
   "source": [
    "x =  [ 9.3,  9.9, 12.7, 19.2, 22.4, 26.6, 26. , 29.5, 28.1, 21.4, 17.4,\n",
    "       13.2, 10.1, 12.9, 14. , 21.3, 23.7, 27.5, 33.1, 31. , 28.7, 20.7,\n",
    "       19. , 13.4, 10. ,  9.9, 13.1, 19.6, 21.9, 26.7, 29.1, 31.8, 28.2,\n",
    "       22.3, 17. , 10.2,  8.5, 10.5, 14. , 17.5, 22.7, 25.4, 28.6, 31.1,\n",
    "       27.1, 22.9, 17.9, 12.5, 10.9, 12.8, 15. , 17.9, 24. , 27.1, 27.4,\n",
    "       33. , 28.5, 22.2, 16.6, 12.6,  9.4,  9.6, 14.9, 18.4, 22. , 24.6,\n",
    "       30.9, 30.7, 27.7, 22.6, 16.4, 13.7, 10.2, 11.5, 13.7, 20.2, 23.6,\n",
    "       25.8, 29.3, 30.1, 26.5, 22.3, 17. , 12.4, 11. ,  9.9, 13.2, 16.6,\n",
    "       23. , 27.5, 31.6, 33.5, 29. , 21.8, 17.2, 13.7,  9.1, 11.2, 12.3,\n",
    "       18.9, 22.2, 26. , 30.9, 31.2, 28.8, 23. , 18.3, 11.1,  8.3,  9.1,\n",
    "       12.5, 18.5, 23.6, 24.8, 30.1, 33.1, 29.8, 23. , 16.3, 11.2]"
   ]
  },
  {
   "cell_type": "code",
   "execution_count": 44,
   "metadata": {},
   "outputs": [],
   "source": [
    "y =  [  331,  268,  365,  492,  632,  730,  821, 1057,  724,  430,  363,\n",
    "        415,  351,  322,  367,  508,  667,  772, 1148, 1080,  653,  434,\n",
    "        358,  388,  323,  283,  357,  543,  667,  812, 1037, 1179,  739,\n",
    "        453,  315,  359,  322,  279,  373,  457,  602,  748,  973, 1193,\n",
    "        654,  493,  336,  392,  347,  292,  387,  466,  652,  768,  908,\n",
    "       1279,  784,  469,  324,  405,  346,  288,  404,  501,  689,  727,\n",
    "       1182, 1190,  691,  477,  355,  414,  351,  303,  386,  569,  768,\n",
    "        819, 1072, 1215,  723,  495,  402,  440,  362,  305,  383,  464,\n",
    "        752,  841, 1211, 1451,  864,  504,  351,  423,  346,  289,  329,\n",
    "        462,  672,  791, 1265, 1241,  767,  516,  393,  423,  339,  274,\n",
    "        385,  524,  671,  798, 1165, 1332,  849,  515,  326,  414]"
   ]
  },
  {
   "cell_type": "code",
   "execution_count": 45,
   "metadata": {},
   "outputs": [],
   "source": [
    "import matplotlib.pyplot as plt"
   ]
  },
  {
   "cell_type": "code",
   "execution_count": 46,
   "metadata": {},
   "outputs": [
    {
     "data": {
      "text/plain": [
       "<matplotlib.collections.PathCollection at 0x1346816d0>"
      ]
     },
     "execution_count": 46,
     "metadata": {},
     "output_type": "execute_result"
    },
    {
     "data": {
      "image/png": "[encoded data removed]",
      "text/plain": [
       "<Figure size 640x480 with 1 Axes>"
      ]
     },
     "metadata": {},
     "output_type": "display_data"
    }
   ],
   "source": [
    "plt.scatter(x, y)"
   ]
  },
  {
   "cell_type": "code",
   "execution_count": 47,
   "metadata": {},
   "outputs": [],
   "source": [
    "n = len(x)"
   ]
  },
  {
   "cell_type": "code",
   "execution_count": 48,
   "metadata": {},
   "outputs": [],
   "source": [
    "def mean_squared_error(y, pred):\n",
    "    return torch.sum((y - pred) ** 2) / n"
   ]
  },
  {
   "cell_type": "code",
   "execution_count": 49,
   "metadata": {},
   "outputs": [],
   "source": [
    "def loss(a, b):\n",
    "    pred = a * x + b\n",
    "    return mean_squared_error(y, pred)"
   ]
  },
  {
   "cell_type": "code",
   "execution_count": 50,
   "metadata": {},
   "outputs": [],
   "source": [
    "x = torch.tensor(x)\n",
    "y = torch.tensor(y)"
   ]
  },
  {
   "cell_type": "code",
   "execution_count": 51,
   "metadata": {},
   "outputs": [
    {
     "name": "stdout",
     "output_type": "stream",
     "text": [
      "a: 30.48543930053711 b: -0.008699999190866947 y: 18489.1171875\n",
      "a: 35.48957824707031 b: -114.21866607666016 y: 16499.017578125\n",
      "a: 35.958866119384766 b: -125.0035171508789 y: 16482.396484375\n",
      "a: 36.00316619873047 b: -126.02156829833984 y: 16482.24609375\n",
      "a: 36.00708770751953 b: -126.11177062988281 y: 16482.248046875\n",
      "a: 36.00708770751953 b: -126.11177062988281 y: 16482.248046875\n",
      "a: 36.00708770751953 b: -126.11177062988281 y: 16482.248046875\n",
      "a: 36.00708770751953 b: -126.11177062988281 y: 16482.248046875\n",
      "a: 36.00708770751953 b: -126.11177062988281 y: 16482.248046875\n",
      "a: 36.00708770751953 b: -126.11177062988281 y: 16482.248046875\n",
      "a: 36.00708770751953 b: -126.11177062988281 y: 16482.248046875\n"
     ]
    }
   ],
   "source": [
    "lr = 0.001\n",
    "a = torch.tensor(30.0, requires_grad=True)\n",
    "b = torch.tensor(0.0, requires_grad=True)\n",
    "\n",
    "for i in range(100001):\n",
    "    L = loss(a, b)\n",
    "    L.backward()\n",
    "    with torch.no_grad(): \n",
    "        a = a - lr * a.grad\n",
    "        b = b - lr * b.grad\n",
    "        \n",
    "    a.requires_grad = True\n",
    "    b.requires_grad = True\n",
    "    if i % 10000 == 0:\n",
    "        print('a:', a.item(), 'b:', b.item(), 'y:', L.item())\n"
   ]
  },
  {
   "cell_type": "code",
   "execution_count": 52,
   "metadata": {},
   "outputs": [],
   "source": [
    "import numpy as np"
   ]
  },
  {
   "cell_type": "code",
   "execution_count": 53,
   "metadata": {},
   "outputs": [
    {
     "data": {
      "text/plain": [
       "[<matplotlib.lines.Line2D at 0x134864550>]"
      ]
     },
     "execution_count": 53,
     "metadata": {},
     "output_type": "execute_result"
    },
    {
     "data": {
      "image/png": "[encoded data removed]",
      "text/plain": [
       "<Figure size 640x480 with 1 Axes>"
      ]
     },
     "metadata": {},
     "output_type": "display_data"
    }
   ],
   "source": [
    "plt.scatter(x, y)\n",
    "_x = np.linspace(10, 35, 1000)\n",
    "plt.plot(_x, a.item() * _x + b.item(), color='red')"
   ]
  }
 ],
 "metadata": {
  "kernelspec": {
   "display_name": "Python 3 (ipykernel)",
   "language": "python",
   "name": "python3"
  },
  "language_info": {
   "codemirror_mode": {
    "name": "ipython",
    "version": 3
   },
   "file_extension": ".py",
   "mimetype": "text/x-python",
   "name": "python",
   "nbconvert_exporter": "python",
   "pygments_lexer": "ipython3",
   "version": "3.9.6"
  }
 },
 "nbformat": 4,
 "nbformat_minor": 4
}
